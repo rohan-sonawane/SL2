{
  "nbformat": 4,
  "nbformat_minor": 0,
  "metadata": {
    "colab": {
      "provenance": []
    },
    "kernelspec": {
      "name": "python3",
      "display_name": "Python 3"
    },
    "language_info": {
      "name": "python"
    }
  },
  "cells": [
    {
      "cell_type": "code",
      "source": [
        "\"\"\"\n",
        "We have given a collection of 8 points.\n",
        "P1=[0.1,0.6]\n",
        "P2=[0.15,0.71]\n",
        "P3=[0.08,0.9]\n",
        "P4=[0.16, 0.85]\n",
        "P5=[0.2,0.3]\n",
        "P6=[0.25,0.5]\n",
        "P7=[0.24,0.1]\n",
        "P8=[0.3,0.2]\n",
        "Perform the k-mean clustering with initial centroids as m1=P1 =Cluster#1=C1 and m2=P8=cluster#2=C2.\n",
        "\"\"\""
      ],
      "metadata": {
        "colab": {
          "base_uri": "https://localhost:8080/",
          "height": 53
        },
        "id": "XIx-7S20FS7r",
        "outputId": "886cd314-85db-472c-c549-9b2beaef37d7"
      },
      "execution_count": null,
      "outputs": [
        {
          "output_type": "execute_result",
          "data": {
            "text/plain": [
              "'\\nWe have given a collection of 8 points.\\nP1=[0.1,0.6]\\nP2=[0.15,0.71]\\nP3=[0.08,0.9]\\nP4=[0.16, 0.85]\\nP5=[0.2,0.3]\\nP6=[0.25,0.5]\\nP7=[0.24,0.1]\\nP8=[0.3,0.2]\\nPerform the k-mean clustering with initial centroids as m1=P1 =Cluster#1=C1 and m2=P8=cluster#2=C2.\\n'"
            ],
            "application/vnd.google.colaboratory.intrinsic+json": {
              "type": "string"
            }
          },
          "metadata": {},
          "execution_count": 3
        }
      ]
    },
    {
      "cell_type": "code",
      "execution_count": null,
      "metadata": {
        "colab": {
          "base_uri": "https://localhost:8080/"
        },
        "id": "wAfOX1CkENPi",
        "outputId": "09882d3b-0f14-48de-884e-4111de08beb5"
      },
      "outputs": [
        {
          "output_type": "stream",
          "name": "stdout",
          "text": [
            "[0 0 0 0 1 0 1 1]\n"
          ]
        }
      ],
      "source": [
        "import numpy as np\n",
        "from scipy.spatial.distance import cdist\n",
        "\n",
        "X = np.array([[0.1, 0.6], [0.15, 0.71], [0.08, 0.9], [0.16, 0.85], \n",
        "              [0.2, 0.3], [0.25, 0.5], [0.24, 0.1], [0.3, 0.2]])\n",
        "\n",
        "C = np.array([[0.1, 0.6], [0.3, 0.2]])\n",
        "\n",
        "clusters = np.argmin(cdist(X, C), axis=1)\n",
        "\n",
        "while True:\n",
        "    C_new = np.array([X[clusters==i].mean(axis=0) for i in range(len(C))])\n",
        "    \n",
        "    if np.array_equal(C, C_new):\n",
        "        break\n",
        "        \n",
        "    clusters = np.argmin(cdist(X, C_new), axis=1)\n",
        "    C = C_new\n",
        "\n",
        "print(clusters)"
      ]
    },
    {
      "cell_type": "code",
      "source": [
        "from sklearn.cluster import KMeans\n",
        "import numpy as np\n",
        "\n",
        "P1 = np.array([0.1, 0.6])\n",
        "P2 = np.array([0.15, 0.71])\n",
        "P3 = np.array([0.08, 0.9])\n",
        "P4 = np.array([0.16, 0.85])\n",
        "P5 = np.array([0.2, 0.3])\n",
        "P6 = np.array([0.25, 0.5])\n",
        "P7 = np.array([0.24, 0.1])\n",
        "P8 = np.array([0.3, 0.2])\n",
        "\n",
        "m1 = P1\n",
        "m2 = P8\n",
        "X = np.array([P1, P2, P3, P4, P5, P6, P7, P8])\n",
        "kmeans = KMeans(n_clusters=2, init=np.array([m1, m2]), n_init=1).fit(X)\n",
        "\n",
        "print(\"Final centroids:\")\n",
        "print(kmeans.cluster_centers_)\n",
        "print(\"Cluster assignments:\")\n",
        "print(kmeans.labels_)"
      ],
      "metadata": {
        "colab": {
          "base_uri": "https://localhost:8080/"
        },
        "id": "0EyoJdA8EcxY",
        "outputId": "bc40b22b-b719-4b32-e11e-aa6e9885e298"
      },
      "execution_count": null,
      "outputs": [
        {
          "output_type": "stream",
          "name": "stdout",
          "text": [
            "Final centroids:\n",
            "[[0.148      0.712     ]\n",
            " [0.24666667 0.2       ]]\n",
            "Cluster assignments:\n",
            "[0 0 0 0 1 0 1 1]\n"
          ]
        }
      ]
    },
    {
      "cell_type": "code",
      "source": [
        "\"\"\"\n",
        "Answer the following\n",
        "1] Which cluster does P6 belong to?\n",
        "--> P6 belongs to Cluster#1 (C1) as it is closer to m1 (P1) than m2 (P8).\n",
        "\n",
        "2] What is the population of cluster around m2?\n",
        "--> The population of the cluster around m2 (C2) is 3 (P5, P7, P8).\n",
        "\n",
        "3] What is updated value of m1 and m2?\n",
        "--> After the first iteration, the updated value of m1 and m2 are as follows:\n",
        "m1 = [(0.1+0.15+0.08+0.2+0.25)/5, (0.6+0.71+0.9+0.85+0.5)/5] = [0.156, 0.712]\n",
        "m2 = [(0.2+0.24+0.3)/3, (0.3+0.1+0.2)/3] = [0.246, 0.2]\n",
        "\"\"\""
      ],
      "metadata": {
        "id": "YbciNKitEzf7"
      },
      "execution_count": null,
      "outputs": []
    }
  ]
}